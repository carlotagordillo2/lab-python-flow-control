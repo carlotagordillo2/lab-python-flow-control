{
 "cells": [
  {
   "cell_type": "markdown",
   "id": "d3bfc191-8885-42ee-b0a0-bbab867c6f9f",
   "metadata": {
    "tags": []
   },
   "source": [
    "# Lab | Flow Control"
   ]
  },
  {
   "cell_type": "markdown",
   "id": "3851fcd1-cf98-4653-9c89-e003b7ec9400",
   "metadata": {},
   "source": [
    "## Exercise: Managing Customer Orders Optimized\n",
    "\n",
    "In the last lab, you were starting an online store that sells various products. To ensure smooth operations, you developed a program that manages customer orders and inventory.\n",
    "\n",
    "You did so without using flow control. Let's go a step further and improve this code.\n",
    "\n",
    "Follow the steps below to complete the exercise:\n",
    "\n",
    "1. Look at your code from the lab data structures, and improve repeated code with loops.\n",
    "\n",
    "2. Instead of asking the user to input the name of three products that a customer wants to order, do the following:\n",
    "    \n",
    "    a. Prompt the user to enter the name of a product that a customer wants to order.\n",
    "    \n",
    "    b. Add the product name to the \"customer_orders\" set.\n",
    "    \n",
    "    c. Ask the user if they want to add another product (yes/no).\n",
    "    \n",
    "    d. Continue the loop until the user does not want to add another product.\n",
    "\n",
    "3. Instead of updating the inventory by subtracting 1 from the quantity of each product, only do it for  the products that were ordered (those in \"customer_orders\")."
   ]
  },
  {
   "cell_type": "markdown",
   "id": "7e9e8c4d",
   "metadata": {},
   "source": [
    "1. Look at your code from the lab data structures, and improve repeated code with loops."
   ]
  },
  {
   "cell_type": "code",
   "execution_count": 1,
   "id": "4c867a4c",
   "metadata": {},
   "outputs": [
    {
     "data": {
      "text/plain": [
       "['t-shirt', 'mug', 'hat', 'book', 'keychain']"
      ]
     },
     "execution_count": 1,
     "metadata": {},
     "output_type": "execute_result"
    }
   ],
   "source": [
    "products = [\"t-shirt\", \"mug\", \"hat\", \"book\", \"keychain\"]\n",
    "products"
   ]
  },
  {
   "cell_type": "code",
   "execution_count": 2,
   "id": "55e869b2",
   "metadata": {},
   "outputs": [
    {
     "data": {
      "text/plain": [
       "{}"
      ]
     },
     "execution_count": 2,
     "metadata": {},
     "output_type": "execute_result"
    }
   ],
   "source": [
    "inventory = dict()\n",
    "inventory"
   ]
  },
  {
   "cell_type": "code",
   "execution_count": 3,
   "id": "f4da4d05",
   "metadata": {},
   "outputs": [
    {
     "data": {
      "text/plain": [
       "{'t-shirt': 2, 'mug': 3, 'hat': 4, 'book': 4, 'keychain': 3}"
      ]
     },
     "execution_count": 3,
     "metadata": {},
     "output_type": "execute_result"
    }
   ],
   "source": [
    "for prod in products: \n",
    "    quan = int(input(f\"Tell me the quantity of {prod} available in the inventory :\"))\n",
    "    inventory[prod] = quan\n",
    "\n",
    "inventory"
   ]
  },
  {
   "cell_type": "code",
   "execution_count": 4,
   "id": "0caa9922",
   "metadata": {},
   "outputs": [],
   "source": [
    "customer_orders = set()"
   ]
  },
  {
   "cell_type": "markdown",
   "id": "def6de27",
   "metadata": {},
   "source": [
    "2. Instead of asking the user to input the name of three products that a customer wants to order, do the following:\n",
    "    \n",
    "    a. Prompt the user to enter the name of a product that a customer wants to order.\n",
    "    \n",
    "    b. Add the product name to the \"customer_orders\" set.\n",
    "    \n",
    "    c. Ask the user if they want to add another product (yes/no).\n",
    "    \n",
    "    d. Continue the loop until the user does not want to add another product."
   ]
  },
  {
   "cell_type": "code",
   "execution_count": 6,
   "id": "336529ed",
   "metadata": {},
   "outputs": [],
   "source": [
    "while True: \n",
    "    order = input(f\"Enter the name of product to order (from {products}): \").lower()\n",
    "    if (order in products) and (inventory[order] != 0): #de esta forma nos aseguramos que tengamos ese producto y que al menos tengamos uno\n",
    "        customer_orders.add(order)\n",
    "    else:\n",
    "        print(f\"{order} is not available in the product list.\")\n",
    "    \n",
    "    for e in customer_orders:\n",
    "        inventory[e]-= 1\n",
    "        \n",
    "    otro_prod =  input(\"Do you want to add another product? (yes/no): \").strip().lower()\n",
    "    if otro_prod != 'yes':\n",
    "        break\n",
    "    "
   ]
  },
  {
   "cell_type": "markdown",
   "id": "5a072bfd",
   "metadata": {},
   "source": [
    "Print the products in the `customer_orders` set"
   ]
  },
  {
   "cell_type": "code",
   "execution_count": 7,
   "id": "345feba1",
   "metadata": {},
   "outputs": [
    {
     "name": "stdout",
     "output_type": "stream",
     "text": [
      "Clients chose these products: \n",
      "\n",
      "t-shirt\n"
     ]
    }
   ],
   "source": [
    "print(\"Clients chose these products: \\n\")\n",
    "for e in customer_orders: \n",
    "    print(e)"
   ]
  },
  {
   "cell_type": "markdown",
   "id": "56487d76",
   "metadata": {},
   "source": [
    "7. Calculate the following order statistics:\n",
    "   - Total Products Ordered: The total number of products in the `customer_orders` set.\n",
    "   - Percentage of Products Ordered: The percentage of products ordered compared to the total available products.\n",
    "   \n",
    "   Store these statistics in a tuple called `order_status`."
   ]
  },
  {
   "cell_type": "code",
   "execution_count": 8,
   "id": "8f5b0463",
   "metadata": {},
   "outputs": [
    {
     "data": {
      "text/plain": [
       "(1, 20.0)"
      ]
     },
     "execution_count": 8,
     "metadata": {},
     "output_type": "execute_result"
    }
   ],
   "source": [
    "order_status = ()\n",
    "total_products_ordered = len(customer_orders)\n",
    "total_prod= f\"Total number of products: {total_products_ordered}\"\n",
    "precentage_ordered = (total_products_ordered/len(products))*100\n",
    "perc = f\"The percentage of products ordered compared to the total available products{precentage_ordered}\"\n",
    "\n",
    "order_status + (total_products_ordered, precentage_ordered)"
   ]
  },
  {
   "cell_type": "code",
   "execution_count": 9,
   "id": "11ae281b",
   "metadata": {},
   "outputs": [
    {
     "name": "stdout",
     "output_type": "stream",
     "text": [
      "Order Statistics: \n",
      " Total Products Ordered : 1 \n",
      " Percentage of Products Ordered : 20.0 %\n"
     ]
    }
   ],
   "source": [
    "print(f\"Order Statistics: \\n Total Products Ordered : {total_products_ordered} \\n Percentage of Products Ordered : {precentage_ordered} %\")"
   ]
  },
  {
   "cell_type": "code",
   "execution_count": 10,
   "id": "6a33190a",
   "metadata": {},
   "outputs": [
    {
     "name": "stdout",
     "output_type": "stream",
     "text": [
      "This is the uplated inventory: \n",
      "t-shirt: 0\n",
      "mug: 3\n",
      "hat: 4\n",
      "book: 4\n",
      "keychain: 3\n"
     ]
    }
   ],
   "source": [
    "print(\"This is the uplated inventory: \")\n",
    "for product, quantity in inventory.items():\n",
    "    print(f\"{product}: {quantity}\")"
   ]
  },
  {
   "cell_type": "code",
   "execution_count": null,
   "id": "e21f4d30",
   "metadata": {},
   "outputs": [],
   "source": []
  }
 ],
 "metadata": {
  "kernelspec": {
   "display_name": "Python 3 (ipykernel)",
   "language": "python",
   "name": "python3"
  },
  "language_info": {
   "codemirror_mode": {
    "name": "ipython",
    "version": 3
   },
   "file_extension": ".py",
   "mimetype": "text/x-python",
   "name": "python",
   "nbconvert_exporter": "python",
   "pygments_lexer": "ipython3",
   "version": "3.11.7"
  }
 },
 "nbformat": 4,
 "nbformat_minor": 5
}
